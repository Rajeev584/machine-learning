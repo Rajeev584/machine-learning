{
 "cells": [
  {
   "cell_type": "code",
   "execution_count": null,
   "id": "3ca6bd50-f6cd-462d-abe2-83b0a1fd63b4",
   "metadata": {},
   "outputs": [],
   "source": [
    "Q1:\n",
    "WHAT IS ARTIFICIAL INTELLIGENCE?\n",
    "SMART APPLICATION THAT CAN PERFORM ITS OWN  TASK WITHOUT ANY HUMAN INTERVENTION.\n",
    "\n",
    "WHAT IS ML?\n",
    "MACHINE LEARNING(ML) IS PART OF ARTIFICIAL INTELLIGENCE.THAT PROVIDES STATSTOOL TO ANALYZE,VISULAIZE AND PREDICT MODEL.\n",
    "\n",
    "WHAT IS DEEP LEARNING?\n",
    "DEEP LEARNING IS SUBSET OF MACHINE LEARNING WHICH IS ESSENTIALLY A NEURAL NETWORK WITH THREE OR MORE LAYERS.\n",
    "\n",
    "Q2:WHAT IS SUPERVISED LEARNING?GIVE SOME EXAMPLES\n",
    "is a subcategory of machine learning and artificial intelligence. It is defined by its use of labeled datasets\n",
    "to train algorithms that to classify data or predict outcomes accurately.\n",
    "EXAMPLES:fraud detection,image and speech recognition,recommendation system .\n",
    "\n",
    "Q3:WHAT IS UNSUPERVISED LEARNING?GIVE EXAMPLES\n",
    "Unsupervised learning is when it can provide a set of unlabelled data, which it is required to analyze and find patterns inside. The examples are dimension reduction and clustering.b-2022\n",
    "\n",
    "Q4:WHAT IS DIFFERENCE BETWEEN AI,ML,DL,DS?\n",
    "AI IS SMART APPLICATION THAT CAN PERFORM TASK WITHOUT ANY HUMAN INTERVENTION BUT ML IS SUBPART OF AI,THAT IS USED \n",
    "TO VISUALIZE AND ANALYZE DATA.DL IS SUBSET OF AI AND ML WHICH HAS ESSENTIALLY NEURAL NETWORKS.DS IS PART OF ALL\n",
    "AI,ML,DL .DATA SCIENTISTS HAVE TO WORK IN  THESE FIELDS.\n",
    "\n",
    "Q5:WHAT IS DIFFERENCE BETWEEN SUPERVISED,SEMI-SUPERVISED AND UNSUPERVISED MACHINE LEARNING?\n",
    "The main difference between these types is the level of availability of ground truth data, which is prior knowledge of what the output of the model should be for a given input.\n",
    "\n",
    "Q6:WHAT IS TRAIN,TEST AND VALIDATION SPLIT?EXPLAIN THE IMPORTANCE OF EACH TERM.\n",
    "The “training” data set is the general term for the samples\n",
    "used to create the model, while the “test” or “validation” data set is used \n",
    "to qualify performance. Perhaps traditionally the dataset used to evaluate the\n",
    "final model performance is called the “test set”.\n",
    "\n",
    "Q7:HOW CAN UNSUPERVISED LEARNING BE USED IN ANOMALY DETECTION?\n",
    "Anomaly detection techniques of unsupervised nature assume that normal data points occur\n",
    "considerably more frequently than anomalous data points. This assumption is used to classify data\n",
    "points that occur less frequently as anomalies. Unsupervised techniques assign each data point a \n",
    "score instead of a label.\n",
    "\n",
    "Q8:LIST DOWN SOME COMMONLY USED SUPERVISED LEARNING ALGORITHMS AND UNSUPERVISED LEARNING ALGORITHMS.\n",
    "The most commonly used Supervised Learning algorithms are decision tree, logistic regression,\n",
    "linear regression, support vector machine. The most commonly used Unsupervised Learning algorithms\n",
    "are k-means clustering, hierarchical clustering, and apriori algorithm.\n"
   ]
  }
 ],
 "metadata": {
  "kernelspec": {
   "display_name": "Python 3 (ipykernel)",
   "language": "python",
   "name": "python3"
  },
  "language_info": {
   "codemirror_mode": {
    "name": "ipython",
    "version": 3
   },
   "file_extension": ".py",
   "mimetype": "text/x-python",
   "name": "python",
   "nbconvert_exporter": "python",
   "pygments_lexer": "ipython3",
   "version": "3.10.8"
  }
 },
 "nbformat": 4,
 "nbformat_minor": 5
}
